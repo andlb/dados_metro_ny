{
 "cells": [
  {
   "cell_type": "code",
   "execution_count": 3,
   "metadata": {},
   "outputs": [],
   "source": [
    "import pandas as pd\n",
    "\n",
    "empoyees = [('jack', 34, 'Sydney', 5) ,\n",
    "           ('Riti', 31, 'Delhi' , 7) ,\n",
    "           ('Aadi', 16, 'New York', 11)\n",
    "            ]\n",
    "\n",
    "df = pd.DataFrame(empoyees, columns=['Name', 'Age', 'City', 'Experience'], index=['a', 'b', 'c'])"
   ]
  },
  {
   "cell_type": "code",
   "execution_count": null,
   "metadata": {},
   "outputs": [],
   "source": []
  },
  {
   "cell_type": "code",
   "execution_count": 6,
   "metadata": {},
   "outputs": [
    {
     "name": "stdout",
     "output_type": "stream",
     "text": [
      "Row Index label :  a\n",
      "Row Content as Series :  ['jack' 34 'Sydney' 5]\n",
      "Row Index label :  b\n",
      "Row Content as Series :  ['Riti' 31 'Delhi' 7]\n",
      "Row Index label :  c\n",
      "Row Content as Series :  ['Aadi' 16 'New York' 11]\n"
     ]
    }
   ],
   "source": [
    "for (index_label, row_series) in df.iterrows():\n",
    "    print('Row Index label : ', index_label)\n",
    "    print('Row Content as Series : ', row_series.values)\n"
   ]
  },
  {
   "cell_type": "code",
   "execution_count": 7,
   "metadata": {},
   "outputs": [],
   "source": [
    "columns_data = df.loc[:,'Age']"
   ]
  },
  {
   "cell_type": "code",
   "execution_count": 8,
   "metadata": {},
   "outputs": [
    {
     "name": "stdout",
     "output_type": "stream",
     "text": [
      "a    34\n",
      "b    31\n",
      "c    16\n",
      "Name: Age, dtype: int64\n"
     ]
    }
   ],
   "source": [
    "print(columns_data)"
   ]
  },
  {
   "cell_type": "code",
   "execution_count": 10,
   "metadata": {},
   "outputs": [
    {
     "name": "stdout",
     "output_type": "stream",
     "text": [
      "34\n",
      "31\n"
     ]
    }
   ],
   "source": [
    "for a in columns_data:\n",
    "    if a > 30:\n",
    "        print(a)"
   ]
  },
  {
   "cell_type": "code",
   "execution_count": 14,
   "metadata": {},
   "outputs": [
    {
     "name": "stdout",
     "output_type": "stream",
     "text": [
      "   Age  Experience\n",
      "a   34           5\n",
      "b   31           7\n",
      "c   16          11\n"
     ]
    }
   ],
   "source": [
    "columns_data = df.loc[:,['Age','Experience']]\n",
    "print(columns_data)"
   ]
  },
  {
   "cell_type": "code",
   "execution_count": 26,
   "metadata": {},
   "outputs": [
    {
     "name": "stdout",
     "output_type": "stream",
     "text": [
      "34 5\n",
      "\n",
      "31 7\n",
      "\n",
      "16 11\n",
      "\n"
     ]
    }
   ],
   "source": [
    "columns_data = df[['Age','Experience']]\n",
    "for a in columns_data.index:\n",
    "    print(columns_data['Age'][a],columns_data['Experience'][a])\n",
    "    print()"
   ]
  },
  {
   "cell_type": "code",
   "execution_count": 43,
   "metadata": {},
   "outputs": [
    {
     "name": "stdout",
     "output_type": "stream",
     "text": [
      "a    34.0\n",
      "b    31.0\n",
      "c    16.0\n",
      "Name: Age, dtype: float64\n"
     ]
    }
   ],
   "source": [
    "df['Age'] = df['Age'].apply(lambda x: float(x))\n",
    "print(df['Age'])"
   ]
  },
  {
   "cell_type": "code",
   "execution_count": 49,
   "metadata": {},
   "outputs": [
    {
     "name": "stdout",
     "output_type": "stream",
     "text": [
      "2\n"
     ]
    }
   ],
   "source": [
    "valor = df['Age'][df['Age']<34].count()\n",
    "print(valor)"
   ]
  },
  {
   "cell_type": "code",
   "execution_count": 58,
   "metadata": {},
   "outputs": [
    {
     "name": "stdout",
     "output_type": "stream",
     "text": [
      "3\n"
     ]
    }
   ],
   "source": [
    "from datetime import datetime\n",
    "\n",
    "date_string = \"2019-01-10\"\n",
    "date_object = datetime.strptime(date_string, \"%Y-%m-%d\")\n",
    "# print(date_object.get_weekday())\n",
    "print(date_object.weekday())"
   ]
  }
 ],
 "metadata": {
  "kernelspec": {
   "display_name": "Python 3",
   "language": "python",
   "name": "python3"
  },
  "language_info": {
   "codemirror_mode": {
    "name": "ipython",
    "version": 3
   },
   "file_extension": ".py",
   "mimetype": "text/x-python",
   "name": "python",
   "nbconvert_exporter": "python",
   "pygments_lexer": "ipython3",
   "version": "3.7.1"
  }
 },
 "nbformat": 4,
 "nbformat_minor": 2
}
